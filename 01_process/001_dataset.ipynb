{
 "cells": [
  {
   "cell_type": "code",
   "execution_count": 1,
   "metadata": {},
   "outputs": [],
   "source": [
    "import pandas as pd\n",
    "from imblearn.combine import SMOTEENN\n",
    "from imblearn.over_sampling import SMOTE\n",
    "from imblearn.under_sampling import NearMiss\n",
    "from collections import Counter\n",
    "from glob import glob\n",
    "from tqdm import tqdm\n",
    "import numpy as np"
   ]
  },
  {
   "cell_type": "code",
   "execution_count": 2,
   "metadata": {},
   "outputs": [],
   "source": [
    "def process_data(df, is_drop=True):\n",
    "    df = df.drop(columns=[\n",
    "        \"Flow ID\",\n",
    "        \"Src IP\",\n",
    "    ])\n",
    "\n",
    "    if is_drop:\n",
    "        df = df.drop(columns=[\n",
    "            \"Dst IP\",\n",
    "            \"Timestamp\"\n",
    "        ])\n",
    "    else:\n",
    "        # Timestamp\n",
    "        import datetime\n",
    "        # 2017-07-07 11:59:50.315195 -> 1500000000.315195\n",
    "        DATEFORMAT = \"%Y-%m-%d %H:%M:%S.%f\"\n",
    "        df[\"continuous_timestamp\"] = df[\"Timestamp\"].apply(\n",
    "            lambda x: datetime.strptime(x, DATEFORMAT).timestamp()\n",
    "        )\n",
    "        df = df.drop(columns=[\n",
    "            \"Timestamp\",\n",
    "        ])\n",
    "        df = df.rename(columns={\n",
    "            \"continuous_timestamp\": \"Timestamp\"\n",
    "        })\n",
    "        # Dst IP\n",
    "        import ipaddress as ip\n",
    "        df[\"destination_ip\"] = df[\"Dst IP\"].apply(\n",
    "            lambda x: int(ip.IPv4Address(x))\n",
    "        )\n",
    "        df = df.drop(columns=[\n",
    "            \"Dst IP\",\n",
    "        ])\n",
    "        df = df.rename(columns={\n",
    "            \"destination_ip\": \"Dst IP\"\n",
    "        })\n",
    "    return df\n",
    "    "
   ]
  },
  {
   "cell_type": "code",
   "execution_count": 3,
   "metadata": {},
   "outputs": [],
   "source": [
    "def read_data(pattern=0):\n",
    "    if pattern == 0:\n",
    "        file_path = \"../data_cicids2017/0_raw/friday.csv\"\n",
    "        df = pd.read_csv(file_path)\n",
    "        df = process_data(df)\n",
    "    else:\n",
    "        directory_path = \"../data_cicids2017/0_raw\"\n",
    "\n",
    "        df = pd.DataFrame()\n",
    "        files_path = glob(f\"{directory_path}/*.csv\")\n",
    "        print(files_path)\n",
    "        for file_path in tqdm(files_path):\n",
    "            df_tmp = pd.read_csv(file_path)\n",
    "            df_tmp = process_data(df_tmp)\n",
    "            df_tmp = df_tmp.replace([np.inf, -np.inf], np.nan)\n",
    "            df_tmp = df_tmp.dropna()\n",
    "            df = pd.concat([df, df_tmp], axis=0)\n",
    "    return df"
   ]
  },
  {
   "cell_type": "code",
   "execution_count": 5,
   "metadata": {},
   "outputs": [
    {
     "name": "stdout",
     "output_type": "stream",
     "text": [
      "['../data_cicids2017/0_raw/tuesday.csv', '../data_cicids2017/0_raw/monday.csv', '../data_cicids2017/0_raw/thursday.csv', '../data_cicids2017/0_raw/wednesday.csv', '../data_cicids2017/0_raw/friday.csv']\n"
     ]
    },
    {
     "name": "stderr",
     "output_type": "stream",
     "text": [
      "100%|██████████| 5/5 [00:10<00:00,  2.10s/it]\n"
     ]
    },
    {
     "name": "stdout",
     "output_type": "stream",
     "text": [
      "Before:  Counter({'BENIGN': 1582561, 'Portscan': 159066, 'DoS Hulk': 158468, 'DDoS': 95144, 'Infiltration - Portscan': 71767, 'DoS GoldenEye': 7567, 'Botnet - Attempted': 4067, 'FTP-Patator': 3972, 'DoS Slowloris': 3859, 'DoS Slowhttptest - Attempted': 3368, 'SSH-Patator': 2961, 'DoS Slowloris - Attempted': 1847, 'DoS Slowhttptest': 1740, 'Web Attack - Brute Force - Attempted': 1292, 'Botnet': 736, 'Web Attack - XSS - Attempted': 655, 'DoS Hulk - Attempted': 581, 'DoS GoldenEye - Attempted': 80, 'Web Attack - Brute Force': 73, 'Infiltration - Attempted': 45, 'Infiltration': 36, 'SSH-Patator - Attempted': 27, 'Web Attack - XSS': 18, 'Web Attack - SQL Injection': 13, 'FTP-Patator - Attempted': 12, 'Heartbleed': 11, 'Web Attack - SQL Injection - Attempted': 5})\n",
      "3番目に多い属性: ('DoS Hulk', 158468)\n",
      "Label\n",
      "BENIGN      1582561\n",
      "Portscan     159066\n",
      "DoS Hulk     158468\n",
      "Name: count, dtype: int64\n",
      "Label\n",
      "DDoS                                      95144\n",
      "Infiltration - Portscan                   71767\n",
      "DoS GoldenEye                              7567\n",
      "Botnet - Attempted                         4067\n",
      "FTP-Patator                                3972\n",
      "DoS Slowloris                              3859\n",
      "DoS Slowhttptest - Attempted               3368\n",
      "SSH-Patator                                2961\n",
      "DoS Slowloris - Attempted                  1847\n",
      "DoS Slowhttptest                           1740\n",
      "Web Attack - Brute Force - Attempted       1292\n",
      "Botnet                                      736\n",
      "Web Attack - XSS - Attempted                655\n",
      "DoS Hulk - Attempted                        581\n",
      "DoS GoldenEye - Attempted                    80\n",
      "Web Attack - Brute Force                     73\n",
      "Infiltration - Attempted                     45\n",
      "Infiltration                                 36\n",
      "SSH-Patator - Attempted                      27\n",
      "Web Attack - XSS                             18\n",
      "Web Attack - SQL Injection                   13\n",
      "FTP-Patator - Attempted                      12\n",
      "Heartbleed                                   11\n",
      "Web Attack - SQL Injection - Attempted        5\n",
      "Name: count, dtype: int64\n"
     ]
    }
   ],
   "source": [
    "df = read_data(1)\n",
    "X = df.drop(columns=[\"Label\", \"Attempted Category\"])\n",
    "y = df[\"Label\"]\n",
    "\n",
    "print(\"Before: \", Counter(y))\n",
    "result_counter = Counter(y)\n",
    "third_most_common = result_counter.most_common(3)[-1]\n",
    "print(f\"3番目に多い属性: {third_most_common}\")\n",
    "if third_most_common[1] > 100_000:\n",
    "    more_than_third_label = [k for k, v in result_counter.items() if v >= 100_000]\n",
    "    less_than_third_label = [k for k, v in result_counter.items() if v <= 100_000]\n",
    "else:\n",
    "    more_than_third_label = [k for k, v in result_counter.items() if v >= third_most_common[1]]\n",
    "    less_than_third_label = [k for k, v in result_counter.items() if v <= third_most_common[1]]\n",
    "\n",
    "more_than_third = df[df[\"Label\"].isin(more_than_third_label)]\n",
    "less_than_third = df[df[\"Label\"].isin(less_than_third_label)]\n",
    "\n",
    "print(more_than_third[\"Label\"].value_counts())\n",
    "print(less_than_third[\"Label\"].value_counts())"
   ]
  },
  {
   "cell_type": "code",
   "execution_count": null,
   "metadata": {},
   "outputs": [
    {
     "name": "stdout",
     "output_type": "stream",
     "text": [
      "oversampling start...\n"
     ]
    }
   ],
   "source": [
    "# oversampling ... less than third\n",
    "smote_enn = SMOTEENN(\n",
    "    random_state=42,\n",
    "    n_jobs=-1,\n",
    "    smote=SMOTE(\n",
    "        k_neighbors=2,\n",
    "        random_state=42,\n",
    "    )\n",
    ")\n",
    "over_x = less_than_third.drop(columns=[\"Label\", \"Attempted Category\"])\n",
    "over_y = less_than_third[\"Label\"]\n",
    "print(\"oversampling start...\")\n",
    "over_x_res, over_y_res = smote_enn.fit_resample(over_x, over_y)\n",
    "print(\"oversampling end...\")\n",
    "\n",
    "over_res = pd.concat([over_x_res, over_y_res], axis=1)\n",
    "print(over_res[\"Label\"].value_counts())\n",
    "\n",
    "# undersampling ... more than thrid\n",
    "nm = NearMiss(\n",
    "    n_neighbors_ver3=2,\n",
    "    version=3,\n",
    "    n_jobs=-1,\n",
    "    sampling_strategy={\n",
    "        k: third_most_common[1] for k in more_than_third[\"Label\"].unique()\n",
    "    }\n",
    ")\n",
    "under_x = more_than_third.drop(columns=[\"Label\", \"Attempted Category\"])\n",
    "under_y = more_than_third[\"Label\"]\n",
    "print(\"undersampling start...\")\n",
    "under_x_res, under_y_res = nm.fit_resample(under_x, under_y)\n",
    "print(\"undersampling end...\")\n",
    "\n",
    "under_res = pd.concat([under_x_res, under_y_res], axis=1)\n",
    "under_res = under_res[under_res[\"Label\"] != third_most_common[0]]\n",
    "print(under_res[\"Label\"].value_counts())\n",
    "\n",
    "df = pd.concat([over_res, under_res], axis=0)\n",
    "del over_res, under_res"
   ]
  },
  {
   "cell_type": "code",
   "execution_count": null,
   "metadata": {},
   "outputs": [],
   "source": [
    "length = len(df)\n",
    "print(df[\"Label\"].value_counts())"
   ]
  },
  {
   "cell_type": "code",
   "execution_count": 7,
   "metadata": {},
   "outputs": [],
   "source": [
    "# length = len(df)\n",
    "\n",
    "# ROW_COUNTER = 500_000\n",
    "\n",
    "# i = 0\n",
    "# counter = 0\n",
    "# while i < length:\n",
    "#     counter += 1\n",
    "#     if i + ROW_COUNTER > length:\n",
    "#         df_temp = df.iloc[i:length]\n",
    "#         print(f\"{i:10d} - {length:10d}\")\n",
    "#     else:\n",
    "#         df_temp = df.iloc[i:i + ROW_COUNTER]\n",
    "#         print(f\"{i:10d} - {i + ROW_COUNTER:10d}\")\n",
    "\n",
    "#     df_temp.to_csv(f\"/home/ishibashi02/test/drl_2/data_cicids2017/1_sampling/{counter:03d}_cicids2017.csv\", index=False)\n",
    "#     i += ROW_COUNTER"
   ]
  }
 ],
 "metadata": {
  "kernelspec": {
   "display_name": ".venv",
   "language": "python",
   "name": "python3"
  },
  "language_info": {
   "codemirror_mode": {
    "name": "ipython",
    "version": 3
   },
   "file_extension": ".py",
   "mimetype": "text/x-python",
   "name": "python",
   "nbconvert_exporter": "python",
   "pygments_lexer": "ipython3",
   "version": "3.10.15"
  }
 },
 "nbformat": 4,
 "nbformat_minor": 2
}
