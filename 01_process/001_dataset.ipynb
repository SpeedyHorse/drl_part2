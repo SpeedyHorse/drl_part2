{
 "cells": [
  {
   "cell_type": "code",
   "execution_count": 1,
   "metadata": {},
   "outputs": [],
   "source": [
    "import pandas as pd\n",
    "from imblearn.combine import SMOTEENN\n",
    "from imblearn.over_sampling import SMOTE\n",
    "from collections import Counter\n",
    "from glob import glob\n",
    "from tqdm import tqdm\n",
    "import numpy as np\n",
    "\n",
    "# file_path = \"/home/ishibashi02/test/drl_2/data_cicids2017/0_raw/friday.csv\"\n",
    "\n",
    "# df = pd.read_csv(file_path)"
   ]
  },
  {
   "cell_type": "code",
   "execution_count": 2,
   "metadata": {},
   "outputs": [],
   "source": [
    "def process_data(df, is_drop=True):\n",
    "    df = df.drop(columns=[\n",
    "        \"Flow ID\",\n",
    "        \"Src IP\",\n",
    "    ])\n",
    "\n",
    "    if is_drop:\n",
    "        df = df.drop(columns=[\n",
    "            \"Dst IP\",\n",
    "            \"Timestamp\"\n",
    "        ])\n",
    "    else:\n",
    "        # Timestamp\n",
    "        import datetime\n",
    "        # 2017-07-07 11:59:50.315195 -> 1500000000.315195\n",
    "        DATEFORMAT = \"%Y-%m-%d %H:%M:%S.%f\"\n",
    "        df[\"continuous_timestamp\"] = df[\"Timestamp\"].apply(\n",
    "            lambda x: datetime.strptime(x, DATEFORMAT).timestamp()\n",
    "        )\n",
    "        df = df.drop(columns=[\n",
    "            \"Timestamp\",\n",
    "        ])\n",
    "        df = df.rename(columns={\n",
    "            \"continuous_timestamp\": \"Timestamp\"\n",
    "        })\n",
    "        # Dst IP\n",
    "        import ipaddress as ip\n",
    "        df[\"destination_ip\"] = df[\"Dst IP\"].apply(\n",
    "            lambda x: int(ip.IPv4Address(x))\n",
    "        )\n",
    "        df = df.drop(columns=[\n",
    "            \"Dst IP\",\n",
    "        ])\n",
    "        df = df.rename(columns={\n",
    "            \"destination_ip\": \"Dst IP\"\n",
    "        })\n",
    "    return df\n",
    "    "
   ]
  },
  {
   "cell_type": "code",
   "execution_count": 3,
   "metadata": {},
   "outputs": [
    {
     "name": "stderr",
     "output_type": "stream",
     "text": [
      "100%|██████████| 5/5 [00:11<00:00,  2.23s/it]\n"
     ]
    }
   ],
   "source": [
    "directory_path = \"../data_cicids2017/0_raw\"\n",
    "\n",
    "df = pd.DataFrame()\n",
    "files_path = glob(f\"{directory_path}/*.csv\")\n",
    "print(files_path)\n",
    "for file_path in tqdm(files_path):\n",
    "    df_tmp = pd.read_csv(file_path)\n",
    "    df_tmp = process_data(df_tmp)\n",
    "    df_tmp = df_tmp.replace([np.inf, -np.inf], np.nan)\n",
    "    df_tmp = df_tmp.dropna()\n",
    "    df = pd.concat([df, df_tmp], axis=0)"
   ]
  },
  {
   "cell_type": "code",
   "execution_count": 4,
   "metadata": {},
   "outputs": [
    {
     "name": "stdout",
     "output_type": "stream",
     "text": [
      "Before:  Counter({'BENIGN': 1582561, 'Portscan': 159066, 'DoS Hulk': 158468, 'DDoS': 95144, 'Infiltration - Portscan': 71767, 'DoS GoldenEye': 7567, 'Botnet - Attempted': 4067, 'FTP-Patator': 3972, 'DoS Slowloris': 3859, 'DoS Slowhttptest - Attempted': 3368, 'SSH-Patator': 2961, 'DoS Slowloris - Attempted': 1847, 'DoS Slowhttptest': 1740, 'Web Attack - Brute Force - Attempted': 1292, 'Botnet': 736, 'Web Attack - XSS - Attempted': 655, 'DoS Hulk - Attempted': 581, 'DoS GoldenEye - Attempted': 80, 'Web Attack - Brute Force': 73, 'Infiltration - Attempted': 45, 'Infiltration': 36, 'SSH-Patator - Attempted': 27, 'Web Attack - XSS': 18, 'Web Attack - SQL Injection': 13, 'FTP-Patator - Attempted': 12, 'Heartbleed': 11, 'Web Attack - SQL Injection - Attempted': 5})\n"
     ]
    }
   ],
   "source": [
    "X = df.drop(columns=[\"Label\", \"Attempted Category\"])\n",
    "y = df[\"Label\"]\n",
    "\n",
    "print(\"Before: \", Counter(y))"
   ]
  },
  {
   "cell_type": "code",
   "execution_count": null,
   "metadata": {},
   "outputs": [],
   "source": [
    "smote_enn = SMOTEENN(\n",
    "    random_state=42,\n",
    "    n_jobs=-1,\n",
    "    smote=SMOTE(\n",
    "        k_neighbors=2,\n",
    "        random_state=42,\n",
    "    )\n",
    ")\n",
    "X_res, y_res = smote_enn.fit_resample(X, y)\n",
    "\n",
    "print(\"After: \", Counter(y_res))"
   ]
  },
  {
   "cell_type": "code",
   "execution_count": null,
   "metadata": {},
   "outputs": [],
   "source": [
    "df = pd.concat([X_res, y_res], axis=1)\n",
    "\n",
    "length = len(df)\n",
    "\n",
    "ROW_COUNTER = 500_000\n",
    "\n",
    "i = 0\n",
    "counter = 0\n",
    "while i < length:\n",
    "    counter += 1\n",
    "    if i + ROW_COUNTER > length:\n",
    "        df_temp = df.iloc[i:length]\n",
    "        print(f\"{i:10d} - {length:10d}\")\n",
    "    else:\n",
    "        df_temp = df.iloc[i:i + ROW_COUNTER]\n",
    "        print(f\"{i:10d} - {i + ROW_COUNTER:10d}\")\n",
    "\n",
    "    df_temp.to_csv(f\"/home/ishibashi02/test/drl_2/data_cicids2017/1_sampling/{counter:03d}_cicids2017.csv\", index=False)\n",
    "    i += ROW_COUNTER"
   ]
  }
 ],
 "metadata": {
  "kernelspec": {
   "display_name": ".venv",
   "language": "python",
   "name": "python3"
  },
  "language_info": {
   "codemirror_mode": {
    "name": "ipython",
    "version": 3
   },
   "file_extension": ".py",
   "mimetype": "text/x-python",
   "name": "python",
   "nbconvert_exporter": "python",
   "pygments_lexer": "ipython3",
   "version": "3.10.12"
  }
 },
 "nbformat": 4,
 "nbformat_minor": 2
}
