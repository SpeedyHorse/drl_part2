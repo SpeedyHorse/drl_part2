{
 "cells": [
  {
   "cell_type": "code",
   "execution_count": 1,
   "metadata": {},
   "outputs": [],
   "source": [
    "import pandas as pd\n",
    "from imblearn.combine import SMOTEENN\n",
    "from imblearn.over_sampling import SMOTE\n",
    "from imblearn.under_sampling import NearMiss\n",
    "from collections import Counter\n",
    "from glob import glob\n",
    "from tqdm import tqdm\n",
    "import numpy as np"
   ]
  },
  {
   "cell_type": "code",
   "execution_count": 2,
   "metadata": {},
   "outputs": [],
   "source": [
    "def process_data(df, is_drop=True):\n",
    "    df = df.drop(columns=[\n",
    "        \"Flow ID\",\n",
    "        \"Src IP\",\n",
    "    ])\n",
    "\n",
    "    if is_drop:\n",
    "        df = df.drop(columns=[\n",
    "            \"Dst IP\",\n",
    "            \"Timestamp\"\n",
    "        ])\n",
    "    else:\n",
    "        # Timestamp\n",
    "        import datetime\n",
    "        # 2017-07-07 11:59:50.315195 -> 1500000000.315195\n",
    "        DATEFORMAT = \"%Y-%m-%d %H:%M:%S.%f\"\n",
    "        df[\"continuous_timestamp\"] = df[\"Timestamp\"].apply(\n",
    "            lambda x: datetime.strptime(x, DATEFORMAT).timestamp()\n",
    "        )\n",
    "        df = df.drop(columns=[\n",
    "            \"Timestamp\",\n",
    "        ])\n",
    "        df = df.rename(columns={\n",
    "            \"continuous_timestamp\": \"Timestamp\"\n",
    "        })\n",
    "        # Dst IP\n",
    "        import ipaddress as ip\n",
    "        df[\"destination_ip\"] = df[\"Dst IP\"].apply(\n",
    "            lambda x: int(ip.IPv4Address(x))\n",
    "        )\n",
    "        df = df.drop(columns=[\n",
    "            \"Dst IP\",\n",
    "        ])\n",
    "        df = df.rename(columns={\n",
    "            \"destination_ip\": \"Dst IP\"\n",
    "        })\n",
    "    return df\n",
    "    "
   ]
  },
  {
   "cell_type": "code",
   "execution_count": 3,
   "metadata": {},
   "outputs": [],
   "source": [
    "def read_data(pattern=0):\n",
    "    if pattern == 0:\n",
    "        file_path = \"../data_cicids2017/0_raw/friday.csv\"\n",
    "        df = pd.read_csv(file_path)\n",
    "        df = process_data(df)\n",
    "    else:\n",
    "        directory_path = \"../data_cicids2017/0_raw\"\n",
    "\n",
    "        df = pd.DataFrame()\n",
    "        files_path = glob(f\"{directory_path}/*.csv\")\n",
    "        print(files_path)\n",
    "        for file_path in tqdm(files_path):\n",
    "            df_tmp = pd.read_csv(file_path)\n",
    "            df_tmp = process_data(df_tmp)\n",
    "            df_tmp = df_tmp.replace([np.inf, -np.inf], np.nan)\n",
    "            df_tmp = df_tmp.dropna()\n",
    "            df = pd.concat([df, df_tmp], axis=0)\n",
    "    return df"
   ]
  },
  {
   "cell_type": "code",
   "execution_count": 4,
   "metadata": {},
   "outputs": [
    {
     "name": "stdout",
     "output_type": "stream",
     "text": [
      "Before:  Counter({'BENIGN': 288544, 'Portscan': 159066, 'DDoS': 95144, 'Botnet - Attempted': 4067, 'Botnet': 736})\n",
      "After:  Counter({0: 288544, 1: 259013})\n"
     ]
    }
   ],
   "source": [
    "df = read_data()\n",
    "X = df.drop(columns=[\"Label\", \"Attempted Category\"])\n",
    "y = df[\"Label\"]\n",
    "\n",
    "print(\"Before: \", Counter(y))\n",
    "df = df.drop(columns=[\n",
    "    'id', 'Src Port',\n",
    "    'Bwd PSH Flags',\n",
    "    'Fwd URG Flags', 'Bwd URG Flags', 'Fwd RST Flags', 'Bwd RST Flags',\n",
    "    'Packet Length Min', 'Packet Length Max',\n",
    "    'FIN Flag Count',\n",
    "    'RST Flag Count', 'PSH Flag Count',\n",
    "    'URG Flag Count', 'CWR Flag Count', 'ECE Flag Count',\n",
    "    'Fwd Bytes/Bulk Avg', 'Fwd Packet/Bulk Avg', 'Fwd Bulk Rate Avg', 'Bwd Bytes/Bulk Avg',\n",
    "    'ICMP Code', 'ICMP Type',\n",
    "    'Total TCP Flow Time',\n",
    "    'Attempted Category'\n",
    "])\n",
    "\n",
    "df[\"Label\"] = df[\"Label\"].apply(lambda x: 0 if x == \"BENIGN\" else 1)\n",
    "\n",
    "print(\"After: \", Counter(df[\"Label\"]))"
   ]
  },
  {
   "cell_type": "code",
   "execution_count": 5,
   "metadata": {},
   "outputs": [
    {
     "name": "stdout",
     "output_type": "stream",
     "text": [
      "oversampling start...\n"
     ]
    },
    {
     "name": "stdout",
     "output_type": "stream",
     "text": [
      "oversampling end...\n"
     ]
    }
   ],
   "source": [
    "smote_enn = SMOTEENN(\n",
    "    random_state=42,\n",
    "    n_jobs=-1,\n",
    "    smote=SMOTE(\n",
    "        k_neighbors=2,\n",
    "        random_state=42,\n",
    "    )\n",
    ")\n",
    "\n",
    "over_x = df.drop(columns=[\"Label\"])\n",
    "over_y = df[\"Label\"]\n",
    "print(\"oversampling start...\")\n",
    "over_x_res, over_y_res = smote_enn.fit_resample(over_x, over_y)\n",
    "print(\"oversampling end...\")\n",
    "\n",
    "df = pd.concat([over_x_res, over_y_res], axis=1)"
   ]
  },
  {
   "cell_type": "code",
   "execution_count": 6,
   "metadata": {},
   "outputs": [
    {
     "name": "stdout",
     "output_type": "stream",
     "text": [
      "Index(['Dst Port', 'Protocol', 'Flow Duration', 'Total Fwd Packet',\n",
      "       'Total Bwd packets', 'Total Length of Fwd Packet',\n",
      "       'Total Length of Bwd Packet', 'Fwd Packet Length Max',\n",
      "       'Fwd Packet Length Min', 'Fwd Packet Length Mean',\n",
      "       'Fwd Packet Length Std', 'Bwd Packet Length Max',\n",
      "       'Bwd Packet Length Min', 'Bwd Packet Length Mean',\n",
      "       'Bwd Packet Length Std', 'Flow Bytes/s', 'Flow Packets/s',\n",
      "       'Flow IAT Mean', 'Flow IAT Std', 'Flow IAT Max', 'Flow IAT Min',\n",
      "       'Fwd IAT Total', 'Fwd IAT Mean', 'Fwd IAT Std', 'Fwd IAT Max',\n",
      "       'Fwd IAT Min', 'Bwd IAT Total', 'Bwd IAT Mean', 'Bwd IAT Std',\n",
      "       'Bwd IAT Max', 'Bwd IAT Min', 'Fwd PSH Flags', 'Fwd Header Length',\n",
      "       'Bwd Header Length', 'Fwd Packets/s', 'Bwd Packets/s',\n",
      "       'Packet Length Mean', 'Packet Length Std', 'Packet Length Variance',\n",
      "       'SYN Flag Count', 'ACK Flag Count', 'Down/Up Ratio',\n",
      "       'Average Packet Size', 'Fwd Segment Size Avg', 'Bwd Segment Size Avg',\n",
      "       'Bwd Packet/Bulk Avg', 'Bwd Bulk Rate Avg', 'Subflow Fwd Packets',\n",
      "       'Subflow Fwd Bytes', 'Subflow Bwd Packets', 'Subflow Bwd Bytes',\n",
      "       'FWD Init Win Bytes', 'Bwd Init Win Bytes', 'Fwd Act Data Pkts',\n",
      "       'Fwd Seg Size Min', 'Active Mean', 'Active Std', 'Active Max',\n",
      "       'Active Min', 'Idle Mean', 'Idle Std', 'Idle Max', 'Idle Min', 'Label'],\n",
      "      dtype='object')\n"
     ]
    }
   ],
   "source": [
    "print(df.columns)"
   ]
  },
  {
   "cell_type": "code",
   "execution_count": 7,
   "metadata": {},
   "outputs": [
    {
     "name": "stdout",
     "output_type": "stream",
     "text": [
      "         0 -     500000\n",
      "    500000 -     576529\n"
     ]
    }
   ],
   "source": [
    "length = len(df)\n",
    "\n",
    "ROW_COUNTER = 500_000\n",
    "\n",
    "i = 0\n",
    "counter = 0\n",
    "while i < length:\n",
    "    counter += 1\n",
    "    if i + ROW_COUNTER > length:\n",
    "        df_temp = df.iloc[i:length]\n",
    "        print(f\"{i:10d} - {length:10d}\")\n",
    "    else:\n",
    "        df_temp = df.iloc[i:i + ROW_COUNTER]\n",
    "        print(f\"{i:10d} - {i + ROW_COUNTER:10d}\")\n",
    "\n",
    "    df_temp.to_csv(f\"../data_cicids2017/1_sampling/bi_{counter:03d}_cicids2017.csv\", index=False)\n",
    "    i += ROW_COUNTER"
   ]
  },
  {
   "cell_type": "code",
   "execution_count": null,
   "metadata": {},
   "outputs": [],
   "source": []
  }
 ],
 "metadata": {
  "kernelspec": {
   "display_name": ".venv",
   "language": "python",
   "name": "python3"
  },
  "language_info": {
   "codemirror_mode": {
    "name": "ipython",
    "version": 3
   },
   "file_extension": ".py",
   "mimetype": "text/x-python",
   "name": "python",
   "nbconvert_exporter": "python",
   "pygments_lexer": "ipython3",
   "version": "3.10.12"
  }
 },
 "nbformat": 4,
 "nbformat_minor": 2
}
