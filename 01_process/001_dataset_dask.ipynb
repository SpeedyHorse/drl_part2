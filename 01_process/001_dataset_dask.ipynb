{
 "cells": [
  {
   "cell_type": "code",
   "execution_count": 1,
   "metadata": {},
   "outputs": [],
   "source": [
    "import dask.dataframe as dd\n",
    "import pandas as pd\n",
    "from imblearn.combine import SMOTEENN\n",
    "from imblearn.over_sampling import SMOTE\n",
    "from collections import Counter\n",
    "from glob import glob\n",
    "from tqdm import tqdm\n",
    "import numpy as np\n",
    "\n",
    "# file_path = \"/home/ishibashi02/test/drl_2/data_cicids2017/0_raw/friday.csv\"\n",
    "\n",
    "# df = pd.read_csv(file_path)"
   ]
  },
  {
   "cell_type": "code",
   "execution_count": 2,
   "metadata": {},
   "outputs": [],
   "source": [
    "def process_data(df, is_drop=True):\n",
    "    df = df.drop(columns=[\n",
    "        \"Flow ID\",\n",
    "        \"Src IP\",\n",
    "    ])\n",
    "\n",
    "    if is_drop:\n",
    "        df = df.drop(columns=[\n",
    "            \"Dst IP\",\n",
    "            \"Timestamp\"\n",
    "        ])\n",
    "    else:\n",
    "        # Timestamp\n",
    "        import datetime\n",
    "        # 2017-07-07 11:59:50.315195 -> 1500000000.315195\n",
    "        DATEFORMAT = \"%Y-%m-%d %H:%M:%S.%f\"\n",
    "        df[\"continuous_timestamp\"] = df[\"Timestamp\"].apply(\n",
    "            lambda x: datetime.strptime(x, DATEFORMAT).timestamp()\n",
    "        )\n",
    "        df = df.drop(columns=[\n",
    "            \"Timestamp\",\n",
    "        ])\n",
    "        df = df.rename(columns={\n",
    "            \"continuous_timestamp\": \"Timestamp\"\n",
    "        })\n",
    "        # Dst IP\n",
    "        import ipaddress as ip\n",
    "        df[\"destination_ip\"] = df[\"Dst IP\"].apply(\n",
    "            lambda x: int(ip.IPv4Address(x))\n",
    "        )\n",
    "        df = df.drop(columns=[\n",
    "            \"Dst IP\",\n",
    "        ])\n",
    "        df = df.rename(columns={\n",
    "            \"destination_ip\": \"Dst IP\"\n",
    "        })\n",
    "    return df\n",
    "    "
   ]
  },
  {
   "cell_type": "code",
   "execution_count": 4,
   "metadata": {},
   "outputs": [
    {
     "name": "stderr",
     "output_type": "stream",
     "text": [
      "100%|██████████| 5/5 [00:00<00:00, 25.95it/s]\n"
     ]
    }
   ],
   "source": [
    "directory_path = \"/home/ishibashi02/test/drl_2/data_cicids2017/0_raw\"\n",
    "\n",
    "df = dd.from_pandas(pd.DataFrame(), npartitions=1)\n",
    "files_path = glob(f\"{directory_path}/*.csv\")\n",
    "for file_path in tqdm(files_path):\n",
    "    df_tmp = dd.read_csv(file_path)\n",
    "    df_tmp = process_data(df_tmp)\n",
    "    df_tmp = df_tmp.replace([np.inf, -np.inf], np.nan)\n",
    "    df_tmp = df_tmp.dropna()\n",
    "    df = dd.concat([df, df_tmp], axis=0)"
   ]
  },
  {
   "cell_type": "code",
   "execution_count": null,
   "metadata": {},
   "outputs": [
    {
     "ename": "ValueError",
     "evalue": "n must be 0 <= n < 15",
     "output_type": "error",
     "traceback": [
      "\u001b[0;31m---------------------------------------------------------------------------\u001b[0m",
      "\u001b[0;31mValueError\u001b[0m                                Traceback (most recent call last)",
      "Cell \u001b[0;32mIn[5], line 4\u001b[0m\n\u001b[1;32m      1\u001b[0m X \u001b[38;5;241m=\u001b[39m df\u001b[38;5;241m.\u001b[39mdrop(columns\u001b[38;5;241m=\u001b[39m[\u001b[38;5;124m\"\u001b[39m\u001b[38;5;124mLabel\u001b[39m\u001b[38;5;124m\"\u001b[39m, \u001b[38;5;124m\"\u001b[39m\u001b[38;5;124mAttempted Category\u001b[39m\u001b[38;5;124m\"\u001b[39m])\n\u001b[1;32m      2\u001b[0m y \u001b[38;5;241m=\u001b[39m df[\u001b[38;5;124m\"\u001b[39m\u001b[38;5;124mLabel\u001b[39m\u001b[38;5;124m\"\u001b[39m]\n\u001b[0;32m----> 4\u001b[0m \u001b[38;5;28mprint\u001b[39m(\u001b[38;5;124m\"\u001b[39m\u001b[38;5;124mBefore: \u001b[39m\u001b[38;5;124m\"\u001b[39m, \u001b[43mCounter\u001b[49m\u001b[43m(\u001b[49m\u001b[43my\u001b[49m\u001b[43m)\u001b[49m)\n",
      "File \u001b[0;32m/usr/lib/python3.10/collections/__init__.py:577\u001b[0m, in \u001b[0;36mCounter.__init__\u001b[0;34m(self, iterable, **kwds)\u001b[0m\n\u001b[1;32m    566\u001b[0m \u001b[38;5;250m\u001b[39m\u001b[38;5;124;03m'''Create a new, empty Counter object.  And if given, count elements\u001b[39;00m\n\u001b[1;32m    567\u001b[0m \u001b[38;5;124;03mfrom an input iterable.  Or, initialize the count from another mapping\u001b[39;00m\n\u001b[1;32m    568\u001b[0m \u001b[38;5;124;03mof elements to their counts.\u001b[39;00m\n\u001b[0;32m   (...)\u001b[0m\n\u001b[1;32m    574\u001b[0m \n\u001b[1;32m    575\u001b[0m \u001b[38;5;124;03m'''\u001b[39;00m\n\u001b[1;32m    576\u001b[0m \u001b[38;5;28msuper\u001b[39m()\u001b[38;5;241m.\u001b[39m\u001b[38;5;21m__init__\u001b[39m()\n\u001b[0;32m--> 577\u001b[0m \u001b[38;5;28;43mself\u001b[39;49m\u001b[38;5;241;43m.\u001b[39;49m\u001b[43mupdate\u001b[49m\u001b[43m(\u001b[49m\u001b[43miterable\u001b[49m\u001b[43m,\u001b[49m\u001b[43m \u001b[49m\u001b[38;5;241;43m*\u001b[39;49m\u001b[38;5;241;43m*\u001b[39;49m\u001b[43mkwds\u001b[49m\u001b[43m)\u001b[49m\n",
      "File \u001b[0;32m/usr/lib/python3.10/collections/__init__.py:670\u001b[0m, in \u001b[0;36mCounter.update\u001b[0;34m(self, iterable, **kwds)\u001b[0m\n\u001b[1;32m    668\u001b[0m             \u001b[38;5;28msuper\u001b[39m()\u001b[38;5;241m.\u001b[39mupdate(iterable)\n\u001b[1;32m    669\u001b[0m     \u001b[38;5;28;01melse\u001b[39;00m:\n\u001b[0;32m--> 670\u001b[0m         \u001b[43m_count_elements\u001b[49m\u001b[43m(\u001b[49m\u001b[38;5;28;43mself\u001b[39;49m\u001b[43m,\u001b[49m\u001b[43m \u001b[49m\u001b[43miterable\u001b[49m\u001b[43m)\u001b[49m\n\u001b[1;32m    671\u001b[0m \u001b[38;5;28;01mif\u001b[39;00m kwds:\n\u001b[1;32m    672\u001b[0m     \u001b[38;5;28mself\u001b[39m\u001b[38;5;241m.\u001b[39mupdate(kwds)\n",
      "File \u001b[0;32m~/test/drl_2/.venv/lib/python3.10/site-packages/dask/dataframe/dask_expr/_collection.py:4128\u001b[0m, in \u001b[0;36mSeries.__iter__\u001b[0;34m(self)\u001b[0m\n\u001b[1;32m   4126\u001b[0m frame \u001b[38;5;241m=\u001b[39m \u001b[38;5;28mself\u001b[39m\u001b[38;5;241m.\u001b[39moptimize()\n\u001b[1;32m   4127\u001b[0m \u001b[38;5;28;01mfor\u001b[39;00m i \u001b[38;5;129;01min\u001b[39;00m \u001b[38;5;28mrange\u001b[39m(\u001b[38;5;28mself\u001b[39m\u001b[38;5;241m.\u001b[39mnpartitions):\n\u001b[0;32m-> 4128\u001b[0m     s \u001b[38;5;241m=\u001b[39m \u001b[43mframe\u001b[49m\u001b[38;5;241;43m.\u001b[39;49m\u001b[43mget_partition\u001b[49m\u001b[43m(\u001b[49m\u001b[43mi\u001b[49m\u001b[43m)\u001b[49m\u001b[38;5;241m.\u001b[39mcompute()\n\u001b[1;32m   4129\u001b[0m     \u001b[38;5;28;01myield from\u001b[39;00m s\n",
      "File \u001b[0;32m~/test/drl_2/.venv/lib/python3.10/site-packages/dask/dataframe/dask_expr/_collection.py:835\u001b[0m, in \u001b[0;36mFrameBase.get_partition\u001b[0;34m(self, n)\u001b[0m\n\u001b[1;32m    833\u001b[0m \u001b[38;5;28;01mif\u001b[39;00m \u001b[38;5;129;01mnot\u001b[39;00m \u001b[38;5;241m0\u001b[39m \u001b[38;5;241m<\u001b[39m\u001b[38;5;241m=\u001b[39m n \u001b[38;5;241m<\u001b[39m \u001b[38;5;28mself\u001b[39m\u001b[38;5;241m.\u001b[39mnpartitions:\n\u001b[1;32m    834\u001b[0m     msg \u001b[38;5;241m=\u001b[39m \u001b[38;5;124mf\u001b[39m\u001b[38;5;124m\"\u001b[39m\u001b[38;5;124mn must be 0 <= n < \u001b[39m\u001b[38;5;132;01m{\u001b[39;00m\u001b[38;5;28mself\u001b[39m\u001b[38;5;241m.\u001b[39mnpartitions\u001b[38;5;132;01m}\u001b[39;00m\u001b[38;5;124m\"\u001b[39m\n\u001b[0;32m--> 835\u001b[0m     \u001b[38;5;28;01mraise\u001b[39;00m \u001b[38;5;167;01mValueError\u001b[39;00m(msg)\n\u001b[1;32m    836\u001b[0m \u001b[38;5;28;01mreturn\u001b[39;00m \u001b[38;5;28mself\u001b[39m\u001b[38;5;241m.\u001b[39mpartitions[n]\n",
      "\u001b[0;31mValueError\u001b[0m: n must be 0 <= n < 15"
     ]
    }
   ],
   "source": [
    "X = df.drop(columns=[\"Label\", \"Attempted Category\"])\n",
    "y = df[\"Label\"]\n",
    "\n",
    "smote_enn = SMOTEENN(\n",
    "    random_state=42,\n",
    "    n_jobs=-1,\n",
    "    smote=SMOTE(\n",
    "        k_neighbors=2,\n",
    "        random_state=42,\n",
    "    )\n",
    ")\n",
    "X_res, y_res = smote_enn.fit_resample(X, y)\n",
    "\n",
    "print(\"After: \", Counter(y_res))"
   ]
  },
  {
   "cell_type": "code",
   "execution_count": null,
   "metadata": {},
   "outputs": [],
   "source": [
    "df = pd.concat([X_res, y_res], axis=1)\n",
    "\n",
    "length = len(df)\n",
    "\n",
    "ROW_COUNTER = 500_000\n",
    "\n",
    "i = 0\n",
    "counter = 0\n",
    "while i < length:\n",
    "    counter += 1\n",
    "    if i + ROW_COUNTER > length:\n",
    "        df_temp = df.iloc[i:length]\n",
    "        print(f\"{i:10d} - {length:10d}\")\n",
    "    else:\n",
    "        df_temp = df.iloc[i:i + ROW_COUNTER]\n",
    "        print(f\"{i:10d} - {i + ROW_COUNTER:10d}\")\n",
    "\n",
    "    df_temp.to_csv(f\"/home/ishibashi02/test/drl_2/data_cicids2017/1_sampling/{counter:03d}_cicids2017.csv\", index=False)\n",
    "    i += ROW_COUNTER"
   ]
  }
 ],
 "metadata": {
  "kernelspec": {
   "display_name": ".venv",
   "language": "python",
   "name": "python3"
  },
  "language_info": {
   "codemirror_mode": {
    "name": "ipython",
    "version": 3
   },
   "file_extension": ".py",
   "mimetype": "text/x-python",
   "name": "python",
   "nbconvert_exporter": "python",
   "pygments_lexer": "ipython3",
   "version": "3.10.12"
  }
 },
 "nbformat": 4,
 "nbformat_minor": 2
}
