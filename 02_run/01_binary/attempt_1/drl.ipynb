{
 "cells": [
  {
   "cell_type": "code",
   "execution_count": null,
   "metadata": {},
   "outputs": [],
   "source": [
    "from sklearn.preprocessing import LabelEncoder\n",
    "from glob import glob\n",
    "from tqdm import tqdm\n",
    "import pandas as pd"
   ]
  },
  {
   "cell_type": "code",
   "execution_count": null,
   "metadata": {},
   "outputs": [],
   "source": [
    "CONST = flow_package.Const()\n",
    "\n",
    "TRAIN_DIR = \"../../../data_cicids2017/1_sampling\"\n",
    "\n",
    "files_path = glob(f\"{TRAIN_DIR}/*.csv\")\n",
    "\n",
    "df = pd.DataFrame()\n",
    "for file_path in tqdm(files_path):\n",
    "    df_tmp = pd.read_csv(file_path)\n",
    "    df_tmp = df_tmp.drop(columns=[\"Label\", \"Attempted Category\"])\n",
    "    df_tmp = df_tmp.dropna()\n",
    "    df_tmp = df_tmp.drop_duplicates()\n",
    "    df = pd.concat([df, df_tmp], axis=0)\n",
    "\n",
    "# Label\n",
    "le = LabelEncoder()\n",
    "df[\"Label\"] = le.fit_transform(df[\"Label\"])\n",
    "\n",
    "df[\"label\"] = df[\"Label\"].apply(lambda x: 0 if x == 0 else 1)"
   ]
  }
 ],
 "metadata": {
  "language_info": {
   "name": "python"
  }
 },
 "nbformat": 4,
 "nbformat_minor": 2
}
